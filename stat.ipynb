{
 "cells": [
  {
   "cell_type": "code",
   "execution_count": 61,
   "metadata": {},
   "outputs": [],
   "source": [
    "import pandas as pd\n",
    "\n",
    "df_accidents = pd.read_pickle(\"accidents.pkl.gz\")\n",
    "\n",
    "# Filter accidents based on road type\n",
    "df_filtered_accidents = df_accidents[df_accidents[\"p36\"].isin([0, 1])]\n"
   ]
  },
  {
   "cell_type": "code",
   "execution_count": 62,
   "metadata": {},
   "outputs": [
    {
     "name": "stdout",
     "output_type": "stream",
     "text": [
      "Pravdepodobnost nasledkov na zdravi pri nehodach na dialniciach: 0.15742961747254133\n",
      "Pravdepodobnost nasledkov na zdravi pri nehodach na cestach prvej triedy: 0.3233327226090143\n"
     ]
    }
   ],
   "source": [
    "contingency_table = pd.crosstab(df_filtered_accidents[\"p36\"], df_filtered_accidents[\"p9\"])\n",
    "\n",
    "highway_probability = contingency_table.iloc[0,0] / (contingency_table.iloc[0,0] + contingency_table.iloc[0,1])\n",
    "first_class_probability = contingency_table.iloc[1,0] / (contingency_table.iloc[1,0] + contingency_table.iloc[1,1])\n",
    "\n",
    "print(\"Pravdepodobnost nasledkov na zdravi pri nehodach na dialniciach:\", highway_probability)\n",
    "print(\"Pravdepodobnost nasledkov na zdravi pri nehodach na cestach prvej triedy:\",  first_class_probability)"
   ]
  },
  {
   "cell_type": "code",
   "execution_count": 63,
   "metadata": {},
   "outputs": [
    {
     "name": "stdout",
     "output_type": "stream",
     "text": [
      "Zaver:\n",
      "Na cestach prvej triedy neboli nehody s nasledkami na zdravi s rovnakou pravdepodbnostou ako na dialniciach.\n"
     ]
    }
   ],
   "source": [
    "from scipy.stats import chi2_contingency\n",
    "\n",
    "# Chi2 test\n",
    "chi2, p, dof, expected = chi2_contingency(contingency_table)\n",
    "\n",
    "\n",
    "print(\"Zaver:\")\n",
    "if p < 0.05:\n",
    "    print(\"Na cestach prvej triedy neboli nehody s nasledkami na zdravi s rovnakou pravdepodbnostou ako na dialniciach.\")\n",
    "else:\n",
    "    print(\"Na cestach prvej triedy boli nehody s nasledkami na zdravi s rovnakou pravdepodbnostou ako na dialniciach.\")"
   ]
  },
  {
   "cell_type": "markdown",
   "metadata": {},
   "source": [
    "# Hypotéza 1: Na silnicích první třídy se byly nehody s následky na zdraví se stejnou pravděpodobností jako na dálnicích.\n",
    "\n",
    "Pravdepodobnosť, že nehoda na ceste prvej triedy vedie k následkom na zdraví, je **32,33%**.\n",
    "\n",
    "Pravdepodobnosť, že nehoda na diaľnici vedie k následkom na zdraví, je **15,74%**.\n",
    "\n",
    "Na analýzu bol použitý **chi-kvadrát test**.\n",
    "\n",
    "Hypotézu 1 s 95% istotou **zamietame**. Na cestách prvej triedy neboli nehody s následkami na zdraví s rovnakou pravdepodobnosťou ako na diaľniciach.\n"
   ]
  },
  {
   "cell_type": "code",
   "execution_count": 64,
   "metadata": {},
   "outputs": [],
   "source": [
    "df_vehicles = pd.read_pickle(\"vehicles.pkl.gz\")\n",
    "\n",
    "# Merge dataframes on p1 to include financial damage\n",
    "df_vehicles = pd.merge(df_vehicles, df_accidents[['p1', 'p14*100']], on='p1', how='inner')\n",
    "\n",
    "\n",
    "# Filter trolleybus and bus accidents, extracting damages\n",
    "trolleybus_damages = df_vehicles[df_vehicles[\"p44\"] == 11][\"p14*100\"]\n",
    "bus_damages = df_vehicles[df_vehicles[\"p44\"] == 8][\"p14*100\"]\n"
   ]
  },
  {
   "cell_type": "code",
   "execution_count": 65,
   "metadata": {},
   "outputs": [
    {
     "name": "stdout",
     "output_type": "stream",
     "text": [
      "Trolleybus: not a normal distribution\n",
      "Bus: not a normal distribution\n"
     ]
    }
   ],
   "source": [
    "from scipy.stats import shapiro\n",
    "\n",
    "# Normality tests\n",
    "_, trolleybus_normality = shapiro(trolleybus_damages)\n",
    "_, bus_normality = shapiro(bus_damages)\n",
    "\n",
    "if trolleybus_normality < 0.05:\n",
    "    print(\"Trolleybus: not a normal distribution\")\n",
    "if bus_normality < 0.05:\n",
    "    print(\"Bus: not a normal distribution\")"
   ]
  },
  {
   "cell_type": "code",
   "execution_count": 66,
   "metadata": {},
   "outputs": [
    {
     "name": "stdout",
     "output_type": "stream",
     "text": [
      "Zaver:\n",
      "Skody pri nehodach trolejbusov su statisticky vyznamne nizsie, nez pri nehodach autobusov.\n"
     ]
    }
   ],
   "source": [
    "from scipy.stats import mannwhitneyu\n",
    "\n",
    "# Mann-Whitney U Test\n",
    "u_stat, p_value = mannwhitneyu(trolleybus_damages, bus_damages, alternative=\"less\")\n",
    "\n",
    "print(\"Zaver:\")\n",
    "if p_value < 0.05:\n",
    "    print(\"Skody pri nehodach trolejbusov su statisticky vyznamne nizsie, nez pri nehodach autobusov.\")\n",
    "else:\n",
    "    print(\"Skody pri nehodach trolejbusov nie su statisticky vyznamne nizsie, nez pri nehodach autobusov.\")\n"
   ]
  },
  {
   "cell_type": "markdown",
   "metadata": {},
   "source": [
    "# Hypotéza 2: Škoda při nehodách trolejbusů je nižší, než při nehodách autobusů a tato odchylka je statisticky významná\n",
    "\n",
    "Pre zistenie, či majú dáta normálne rozdelenie, bol použitý **Shapiro-Wilk test**. Výsledná p-hodnota pre autobusy aj trolejbusy bola menšia ako 0,05, čo znamená, že dáta nemajú normálne rozdelenie. Z tohto dôvodu bol použitý **Mann-Whitney U test**.\n",
    "\n",
    "Na základe výsledkov testu je možné s 95% istotou **potvrdiť** hypotézu, že škody pri nehodách trolejbusov sú štatisticky významne nižšie ako pri nehodách autobusov.\n"
   ]
  }
 ],
 "metadata": {
  "kernelspec": {
   "display_name": "env",
   "language": "python",
   "name": "python3"
  },
  "language_info": {
   "codemirror_mode": {
    "name": "ipython",
    "version": 3
   },
   "file_extension": ".py",
   "mimetype": "text/x-python",
   "name": "python",
   "nbconvert_exporter": "python",
   "pygments_lexer": "ipython3",
   "version": "3.12.8"
  }
 },
 "nbformat": 4,
 "nbformat_minor": 2
}
